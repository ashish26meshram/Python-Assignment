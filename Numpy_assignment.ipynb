{
 "cells": [
  {
   "cell_type": "code",
   "execution_count": 1,
   "id": "e34e1aca",
   "metadata": {},
   "outputs": [],
   "source": [
    "import numpy as np"
   ]
  },
  {
   "cell_type": "markdown",
   "id": "a140da32",
   "metadata": {},
   "source": [
    "1. Create a null vector of size 10 but the fifth value which is 1"
   ]
  },
  {
   "cell_type": "code",
   "execution_count": 2,
   "id": "8662790e",
   "metadata": {},
   "outputs": [
    {
     "data": {
      "text/plain": [
       "array([0., 0., 0., 0., 0., 1., 0., 0., 0., 0.])"
      ]
     },
     "execution_count": 2,
     "metadata": {},
     "output_type": "execute_result"
    }
   ],
   "source": [
    "null_vector=np.zeros(10)\n",
    "null_vector[5]=1\n",
    "null_vector"
   ]
  },
  {
   "cell_type": "markdown",
   "id": "9e0df668",
   "metadata": {},
   "source": [
    "2. Create a vector with values ranging from 10 to 49."
   ]
  },
  {
   "cell_type": "code",
   "execution_count": 3,
   "id": "9b2ab54c",
   "metadata": {},
   "outputs": [
    {
     "data": {
      "text/plain": [
       "array([10, 11, 12, 13, 14, 15, 16, 17, 18, 19, 20, 21, 22, 23, 24, 25, 26,\n",
       "       27, 28, 29, 30, 31, 32, 33, 34, 35, 36, 37, 38, 39, 40, 41, 42, 43,\n",
       "       44, 45, 46, 47, 48])"
      ]
     },
     "execution_count": 3,
     "metadata": {},
     "output_type": "execute_result"
    }
   ],
   "source": [
    "vector=np.arange(10,49)\n",
    "vector"
   ]
  },
  {
   "cell_type": "markdown",
   "id": "def8967b",
   "metadata": {},
   "source": [
    "3. Create a 3x3 matrix with values ranging from 0 to 8"
   ]
  },
  {
   "cell_type": "code",
   "execution_count": 4,
   "id": "6849722e",
   "metadata": {},
   "outputs": [
    {
     "data": {
      "text/plain": [
       "array([[0, 1, 2],\n",
       "       [3, 4, 5],\n",
       "       [6, 7, 8]])"
      ]
     },
     "execution_count": 4,
     "metadata": {},
     "output_type": "execute_result"
    }
   ],
   "source": [
    "matrix=np.arange(0,9).reshape(3,3)\n",
    "matrix"
   ]
  },
  {
   "cell_type": "markdown",
   "id": "cb4ef036",
   "metadata": {},
   "source": [
    "4. Find indices of non-zero elements from [1,2,0,0,4,0]"
   ]
  },
  {
   "cell_type": "code",
   "execution_count": 5,
   "id": "329370ce",
   "metadata": {},
   "outputs": [
    {
     "data": {
      "text/plain": [
       "(array([0, 1, 4], dtype=int64),)"
      ]
     },
     "execution_count": 5,
     "metadata": {},
     "output_type": "execute_result"
    }
   ],
   "source": [
    "a=np.array([1,2,0,0,4,0])\n",
    "np.nonzero(a)\n"
   ]
  },
  {
   "cell_type": "markdown",
   "id": "c5a5e902",
   "metadata": {},
   "source": [
    "5. Create a 10x10 array with random values and find the minimum and maximum values."
   ]
  },
  {
   "cell_type": "code",
   "execution_count": 6,
   "id": "069bec94",
   "metadata": {},
   "outputs": [
    {
     "name": "stdout",
     "output_type": "stream",
     "text": [
      "The array is : [[0.5760555  0.56415503 0.76035667 0.25372516 0.63669865 0.62316051\n",
      "  0.9403555  0.09018726 0.90914914 0.32841401]\n",
      " [0.95562422 0.00876284 0.77726907 0.38827084 0.99758079 0.45295798\n",
      "  0.67820528 0.37518201 0.89755669 0.22420527]\n",
      " [0.14817669 0.88934332 0.51585851 0.63511816 0.44355848 0.62819156\n",
      "  0.18067246 0.02661702 0.3547635  0.17825911]\n",
      " [0.17501751 0.46502391 0.71656346 0.31462625 0.00231303 0.96477197\n",
      "  0.40773464 0.27028264 0.25127682 0.19837937]\n",
      " [0.83295303 0.57362114 0.4956406  0.02089263 0.72620478 0.79265416\n",
      "  0.45991831 0.99030047 0.2289051  0.33696382]\n",
      " [0.3319934  0.40521626 0.72104795 0.4692711  0.69648906 0.55039568\n",
      "  0.98915434 0.49275092 0.8823517  0.27622454]\n",
      " [0.44631934 0.22646504 0.48809779 0.61833964 0.18609478 0.23587136\n",
      "  0.88773621 0.85284839 0.915295   0.03129125]\n",
      " [0.37633014 0.22981712 0.56449612 0.42987618 0.26533439 0.46139392\n",
      "  0.01097658 0.83909021 0.30378749 0.03837303]\n",
      " [0.90954317 0.70446254 0.39918502 0.15878395 0.33050943 0.14603585\n",
      "  0.11812098 0.0899381  0.60260984 0.17175219]\n",
      " [0.13415316 0.35639763 0.26648793 0.60719967 0.97075082 0.15814485\n",
      "  0.35014688 0.27265783 0.92527412 0.27904   ]]\n",
      "\t\n",
      "The minimum values is : 0.002313028792310101\n",
      "\t\n",
      "The minimum values is : 0.9975807891064514\n"
     ]
    }
   ],
   "source": [
    "a=np.random.random([10,10])\n",
    "print(\"The array is :\", a)\n",
    "print(\"\\t\")\n",
    "print(\"The minimum values is :\", np.min(a))\n",
    "print(\"\\t\")\n",
    "print(\"The minimum values is :\", np.max(a))"
   ]
  },
  {
   "cell_type": "markdown",
   "id": "a7f26228",
   "metadata": {},
   "source": [
    "6. Create a random vector of size 30 and find the mean value."
   ]
  },
  {
   "cell_type": "code",
   "execution_count": 7,
   "id": "8df5ec30",
   "metadata": {},
   "outputs": [
    {
     "name": "stdout",
     "output_type": "stream",
     "text": [
      "The random Vector is :  [0.25892721 0.3864405  0.51037719 0.71802921 0.31684707 0.51335426\n",
      " 0.87437606 0.0511041  0.22565438 0.31685423 0.17285205 0.05742234\n",
      " 0.60169065 0.59159456 0.55877435 0.43350758 0.96208609 0.52316769\n",
      " 0.04503984 0.31851054 0.96361833 0.83800763 0.66249157 0.75847924\n",
      " 0.40127844 0.88628474 0.2775188  0.6065536  0.09505981 0.40016166]\n",
      "\t\n",
      "The mean values is : 0.4775354572493536\n"
     ]
    }
   ],
   "source": [
    "v=np.random.random(30)\n",
    "print(\"The random Vector is : \", v)\n",
    "print(\"\\t\")\n",
    "print(\"The mean values is :\",np.mean(v))"
   ]
  },
  {
   "cell_type": "code",
   "execution_count": null,
   "id": "3a90d05f",
   "metadata": {},
   "outputs": [],
   "source": []
  }
 ],
 "metadata": {
  "kernelspec": {
   "display_name": "Python 3 (ipykernel)",
   "language": "python",
   "name": "python3"
  },
  "language_info": {
   "codemirror_mode": {
    "name": "ipython",
    "version": 3
   },
   "file_extension": ".py",
   "mimetype": "text/x-python",
   "name": "python",
   "nbconvert_exporter": "python",
   "pygments_lexer": "ipython3",
   "version": "3.9.13"
  }
 },
 "nbformat": 4,
 "nbformat_minor": 5
}
